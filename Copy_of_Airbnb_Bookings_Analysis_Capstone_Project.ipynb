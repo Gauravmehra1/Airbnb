{
  "nbformat": 4,
  "nbformat_minor": 0,
  "metadata": {
    "kernelspec": {
      "display_name": "Python 3",
      "language": "python",
      "name": "python3"
    },
    "language_info": {
      "codemirror_mode": {
        "name": "ipython",
        "version": 3
      },
      "file_extension": ".py",
      "mimetype": "text/x-python",
      "name": "python",
      "nbconvert_exporter": "python",
      "pygments_lexer": "ipython3",
      "version": "3.6.6"
    },
    "colab": {
      "provenance": [],
      "collapsed_sections": [
        "TPyaEoX1ZPne",
        "yrSEQJw5z19N",
        "1ou7Kpaw5BuW",
        "blmy7ksy-SRY",
        "QSxc__u5A1gt",
        "wUwiGCEiMpga",
        "g1fnroh-OdjI",
        "MaPxPltefl_V",
        "CCmB40Xt0ZcR"
      ],
      "include_colab_link": true
    }
  },
  "cells": [
    {
      "cell_type": "markdown",
      "metadata": {
        "id": "view-in-github",
        "colab_type": "text"
      },
      "source": [
        "<a href=\"https://colab.research.google.com/github/Gauravmehra1/Airbnb/blob/main/Copy_of_Airbnb_Bookings_Analysis_Capstone_Project.ipynb\" target=\"_parent\"><img src=\"https://colab.research.google.com/assets/colab-badge.svg\" alt=\"Open In Colab\"/></a>"
      ]
    },
    {
      "cell_type": "markdown",
      "metadata": {
        "id": "Y06xIdG26kRF"
      },
      "source": [
        "## <b> Since 2008, guests and hosts have used Airbnb to expand on traveling possibilities and present a more unique, personalized way of experiencing the world. Today, Airbnb became one of a kind service that is used and recognized by the whole world. Data analysis on millions of listings provided through Airbnb is a crucial factor for the company. These millions of listings generate a lot of data - data that can be analyzed and used for security, business decisions, understanding of customers' and providers' (hosts) behavior and performance on the platform, guiding marketing initiatives, implementation of innovative additional services and much more. </b>\n",
        "\n",
        "## <b>This dataset has around 49,000 observations in it with 16 columns and it is a mix between categorical and numeric values. </b>\n",
        "\n",
        "## <b> Explore and analyze the data to discover key understandings (not limited to these) such as : \n",
        "* What can we learn about different hosts and areas?\n",
        "* What can we learn from predictions? (ex: locations, prices, reviews, etc)\n",
        "* Which hosts are the busiest and why?\n",
        "* Is there any noticeable difference of traffic among different areas and what could be the reason for it? </b>"
      ]
    },
    {
      "cell_type": "code",
      "metadata": {
        "id": "dByMsuzT8Tnw"
      },
      "source": [
        "import numpy as np \n",
        "import pandas as pd \n",
        "import matplotlib.pyplot as plt \n",
        "%matplotlib inline \n",
        "import seaborn as sns"
      ],
      "execution_count": 1,
      "outputs": []
    },
    {
      "cell_type": "code",
      "source": [
        "from google.colab import drive\n",
        "drive.mount('/content/drive')"
      ],
      "metadata": {
        "colab": {
          "base_uri": "https://localhost:8080/"
        },
        "id": "42uxVfKXXZy6",
        "outputId": "af0621ae-b9f4-408c-f90e-2fd18793371b"
      },
      "execution_count": 2,
      "outputs": [
        {
          "output_type": "stream",
          "name": "stdout",
          "text": [
            "Mounted at /content/drive\n"
          ]
        }
      ]
    },
    {
      "cell_type": "code",
      "source": [
        "File =('/content/drive/MyDrive/EDA/AirbnbNYC.csv')\n",
        "df=pd.read_csv(File)"
      ],
      "metadata": {
        "id": "vgef7muJXppk"
      },
      "execution_count": 3,
      "outputs": []
    },
    {
      "cell_type": "code",
      "source": [
        "df.head()"
      ],
      "metadata": {
        "id": "dwNAB0RPYp9m",
        "colab": {
          "base_uri": "https://localhost:8080/",
          "height": 461
        },
        "outputId": "a614fc90-aa73-46ee-9894-bcb0b7ebb798"
      },
      "execution_count": null,
      "outputs": [
        {
          "output_type": "execute_result",
          "data": {
            "text/plain": [
              "     id                                              name  host_id  \\\n",
              "0  2539                Clean & quiet apt home by the park     2787   \n",
              "1  2595                             Skylit Midtown Castle     2845   \n",
              "2  3647               THE VILLAGE OF HARLEM....NEW YORK !     4632   \n",
              "3  3831                   Cozy Entire Floor of Brownstone     4869   \n",
              "4  5022  Entire Apt: Spacious Studio/Loft by central park     7192   \n",
              "\n",
              "     host_name neighbourhood_group neighbourhood  latitude  longitude  \\\n",
              "0         John            Brooklyn    Kensington  40.64749  -73.97237   \n",
              "1     Jennifer           Manhattan       Midtown  40.75362  -73.98377   \n",
              "2    Elisabeth           Manhattan        Harlem  40.80902  -73.94190   \n",
              "3  LisaRoxanne            Brooklyn  Clinton Hill  40.68514  -73.95976   \n",
              "4        Laura           Manhattan   East Harlem  40.79851  -73.94399   \n",
              "\n",
              "         room_type  price  minimum_nights  number_of_reviews last_review  \\\n",
              "0     Private room    149               1                  9  2018-10-19   \n",
              "1  Entire home/apt    225               1                 45  2019-05-21   \n",
              "2     Private room    150               3                  0         NaN   \n",
              "3  Entire home/apt     89               1                270  2019-07-05   \n",
              "4  Entire home/apt     80              10                  9  2018-11-19   \n",
              "\n",
              "   reviews_per_month  calculated_host_listings_count  availability_365  \n",
              "0               0.21                               6               365  \n",
              "1               0.38                               2               355  \n",
              "2                NaN                               1               365  \n",
              "3               4.64                               1               194  \n",
              "4               0.10                               1                 0  "
            ],
            "text/html": [
              "\n",
              "  <div id=\"df-f83e1843-a0f3-4f00-9159-163c5b28e7b9\">\n",
              "    <div class=\"colab-df-container\">\n",
              "      <div>\n",
              "<style scoped>\n",
              "    .dataframe tbody tr th:only-of-type {\n",
              "        vertical-align: middle;\n",
              "    }\n",
              "\n",
              "    .dataframe tbody tr th {\n",
              "        vertical-align: top;\n",
              "    }\n",
              "\n",
              "    .dataframe thead th {\n",
              "        text-align: right;\n",
              "    }\n",
              "</style>\n",
              "<table border=\"1\" class=\"dataframe\">\n",
              "  <thead>\n",
              "    <tr style=\"text-align: right;\">\n",
              "      <th></th>\n",
              "      <th>id</th>\n",
              "      <th>name</th>\n",
              "      <th>host_id</th>\n",
              "      <th>host_name</th>\n",
              "      <th>neighbourhood_group</th>\n",
              "      <th>neighbourhood</th>\n",
              "      <th>latitude</th>\n",
              "      <th>longitude</th>\n",
              "      <th>room_type</th>\n",
              "      <th>price</th>\n",
              "      <th>minimum_nights</th>\n",
              "      <th>number_of_reviews</th>\n",
              "      <th>last_review</th>\n",
              "      <th>reviews_per_month</th>\n",
              "      <th>calculated_host_listings_count</th>\n",
              "      <th>availability_365</th>\n",
              "    </tr>\n",
              "  </thead>\n",
              "  <tbody>\n",
              "    <tr>\n",
              "      <th>0</th>\n",
              "      <td>2539</td>\n",
              "      <td>Clean &amp; quiet apt home by the park</td>\n",
              "      <td>2787</td>\n",
              "      <td>John</td>\n",
              "      <td>Brooklyn</td>\n",
              "      <td>Kensington</td>\n",
              "      <td>40.64749</td>\n",
              "      <td>-73.97237</td>\n",
              "      <td>Private room</td>\n",
              "      <td>149</td>\n",
              "      <td>1</td>\n",
              "      <td>9</td>\n",
              "      <td>2018-10-19</td>\n",
              "      <td>0.21</td>\n",
              "      <td>6</td>\n",
              "      <td>365</td>\n",
              "    </tr>\n",
              "    <tr>\n",
              "      <th>1</th>\n",
              "      <td>2595</td>\n",
              "      <td>Skylit Midtown Castle</td>\n",
              "      <td>2845</td>\n",
              "      <td>Jennifer</td>\n",
              "      <td>Manhattan</td>\n",
              "      <td>Midtown</td>\n",
              "      <td>40.75362</td>\n",
              "      <td>-73.98377</td>\n",
              "      <td>Entire home/apt</td>\n",
              "      <td>225</td>\n",
              "      <td>1</td>\n",
              "      <td>45</td>\n",
              "      <td>2019-05-21</td>\n",
              "      <td>0.38</td>\n",
              "      <td>2</td>\n",
              "      <td>355</td>\n",
              "    </tr>\n",
              "    <tr>\n",
              "      <th>2</th>\n",
              "      <td>3647</td>\n",
              "      <td>THE VILLAGE OF HARLEM....NEW YORK !</td>\n",
              "      <td>4632</td>\n",
              "      <td>Elisabeth</td>\n",
              "      <td>Manhattan</td>\n",
              "      <td>Harlem</td>\n",
              "      <td>40.80902</td>\n",
              "      <td>-73.94190</td>\n",
              "      <td>Private room</td>\n",
              "      <td>150</td>\n",
              "      <td>3</td>\n",
              "      <td>0</td>\n",
              "      <td>NaN</td>\n",
              "      <td>NaN</td>\n",
              "      <td>1</td>\n",
              "      <td>365</td>\n",
              "    </tr>\n",
              "    <tr>\n",
              "      <th>3</th>\n",
              "      <td>3831</td>\n",
              "      <td>Cozy Entire Floor of Brownstone</td>\n",
              "      <td>4869</td>\n",
              "      <td>LisaRoxanne</td>\n",
              "      <td>Brooklyn</td>\n",
              "      <td>Clinton Hill</td>\n",
              "      <td>40.68514</td>\n",
              "      <td>-73.95976</td>\n",
              "      <td>Entire home/apt</td>\n",
              "      <td>89</td>\n",
              "      <td>1</td>\n",
              "      <td>270</td>\n",
              "      <td>2019-07-05</td>\n",
              "      <td>4.64</td>\n",
              "      <td>1</td>\n",
              "      <td>194</td>\n",
              "    </tr>\n",
              "    <tr>\n",
              "      <th>4</th>\n",
              "      <td>5022</td>\n",
              "      <td>Entire Apt: Spacious Studio/Loft by central park</td>\n",
              "      <td>7192</td>\n",
              "      <td>Laura</td>\n",
              "      <td>Manhattan</td>\n",
              "      <td>East Harlem</td>\n",
              "      <td>40.79851</td>\n",
              "      <td>-73.94399</td>\n",
              "      <td>Entire home/apt</td>\n",
              "      <td>80</td>\n",
              "      <td>10</td>\n",
              "      <td>9</td>\n",
              "      <td>2018-11-19</td>\n",
              "      <td>0.10</td>\n",
              "      <td>1</td>\n",
              "      <td>0</td>\n",
              "    </tr>\n",
              "  </tbody>\n",
              "</table>\n",
              "</div>\n",
              "      <button class=\"colab-df-convert\" onclick=\"convertToInteractive('df-f83e1843-a0f3-4f00-9159-163c5b28e7b9')\"\n",
              "              title=\"Convert this dataframe to an interactive table.\"\n",
              "              style=\"display:none;\">\n",
              "        \n",
              "  <svg xmlns=\"http://www.w3.org/2000/svg\" height=\"24px\"viewBox=\"0 0 24 24\"\n",
              "       width=\"24px\">\n",
              "    <path d=\"M0 0h24v24H0V0z\" fill=\"none\"/>\n",
              "    <path d=\"M18.56 5.44l.94 2.06.94-2.06 2.06-.94-2.06-.94-.94-2.06-.94 2.06-2.06.94zm-11 1L8.5 8.5l.94-2.06 2.06-.94-2.06-.94L8.5 2.5l-.94 2.06-2.06.94zm10 10l.94 2.06.94-2.06 2.06-.94-2.06-.94-.94-2.06-.94 2.06-2.06.94z\"/><path d=\"M17.41 7.96l-1.37-1.37c-.4-.4-.92-.59-1.43-.59-.52 0-1.04.2-1.43.59L10.3 9.45l-7.72 7.72c-.78.78-.78 2.05 0 2.83L4 21.41c.39.39.9.59 1.41.59.51 0 1.02-.2 1.41-.59l7.78-7.78 2.81-2.81c.8-.78.8-2.07 0-2.86zM5.41 20L4 18.59l7.72-7.72 1.47 1.35L5.41 20z\"/>\n",
              "  </svg>\n",
              "      </button>\n",
              "      \n",
              "  <style>\n",
              "    .colab-df-container {\n",
              "      display:flex;\n",
              "      flex-wrap:wrap;\n",
              "      gap: 12px;\n",
              "    }\n",
              "\n",
              "    .colab-df-convert {\n",
              "      background-color: #E8F0FE;\n",
              "      border: none;\n",
              "      border-radius: 50%;\n",
              "      cursor: pointer;\n",
              "      display: none;\n",
              "      fill: #1967D2;\n",
              "      height: 32px;\n",
              "      padding: 0 0 0 0;\n",
              "      width: 32px;\n",
              "    }\n",
              "\n",
              "    .colab-df-convert:hover {\n",
              "      background-color: #E2EBFA;\n",
              "      box-shadow: 0px 1px 2px rgba(60, 64, 67, 0.3), 0px 1px 3px 1px rgba(60, 64, 67, 0.15);\n",
              "      fill: #174EA6;\n",
              "    }\n",
              "\n",
              "    [theme=dark] .colab-df-convert {\n",
              "      background-color: #3B4455;\n",
              "      fill: #D2E3FC;\n",
              "    }\n",
              "\n",
              "    [theme=dark] .colab-df-convert:hover {\n",
              "      background-color: #434B5C;\n",
              "      box-shadow: 0px 1px 3px 1px rgba(0, 0, 0, 0.15);\n",
              "      filter: drop-shadow(0px 1px 2px rgba(0, 0, 0, 0.3));\n",
              "      fill: #FFFFFF;\n",
              "    }\n",
              "  </style>\n",
              "\n",
              "      <script>\n",
              "        const buttonEl =\n",
              "          document.querySelector('#df-f83e1843-a0f3-4f00-9159-163c5b28e7b9 button.colab-df-convert');\n",
              "        buttonEl.style.display =\n",
              "          google.colab.kernel.accessAllowed ? 'block' : 'none';\n",
              "\n",
              "        async function convertToInteractive(key) {\n",
              "          const element = document.querySelector('#df-f83e1843-a0f3-4f00-9159-163c5b28e7b9');\n",
              "          const dataTable =\n",
              "            await google.colab.kernel.invokeFunction('convertToInteractive',\n",
              "                                                     [key], {});\n",
              "          if (!dataTable) return;\n",
              "\n",
              "          const docLinkHtml = 'Like what you see? Visit the ' +\n",
              "            '<a target=\"_blank\" href=https://colab.research.google.com/notebooks/data_table.ipynb>data table notebook</a>'\n",
              "            + ' to learn more about interactive tables.';\n",
              "          element.innerHTML = '';\n",
              "          dataTable['output_type'] = 'display_data';\n",
              "          await google.colab.output.renderOutput(dataTable, element);\n",
              "          const docLink = document.createElement('div');\n",
              "          docLink.innerHTML = docLinkHtml;\n",
              "          element.appendChild(docLink);\n",
              "        }\n",
              "      </script>\n",
              "    </div>\n",
              "  </div>\n",
              "  "
            ]
          },
          "metadata": {},
          "execution_count": 18
        }
      ]
    },
    {
      "cell_type": "code",
      "source": [
        "df.shape"
      ],
      "metadata": {
        "id": "vYY5Ga5qYfFo",
        "colab": {
          "base_uri": "https://localhost:8080/"
        },
        "outputId": "7ba1ad9a-3aec-4c55-a3ac-f4eb539281e2"
      },
      "execution_count": null,
      "outputs": [
        {
          "output_type": "execute_result",
          "data": {
            "text/plain": [
              "(48895, 16)"
            ]
          },
          "metadata": {},
          "execution_count": 6
        }
      ]
    },
    {
      "cell_type": "code",
      "source": [
        "df.columns"
      ],
      "metadata": {
        "colab": {
          "base_uri": "https://localhost:8080/"
        },
        "id": "ctiaMe4aY3CI",
        "outputId": "44ebcae1-9824-4817-af4e-a40b2e72f4d1"
      },
      "execution_count": null,
      "outputs": [
        {
          "output_type": "execute_result",
          "data": {
            "text/plain": [
              "Index(['id', 'name', 'host_id', 'host_name', 'neighbourhood_group',\n",
              "       'neighbourhood', 'latitude', 'longitude', 'room_type', 'price',\n",
              "       'minimum_nights', 'number_of_reviews', 'last_review',\n",
              "       'reviews_per_month', 'calculated_host_listings_count',\n",
              "       'availability_365'],\n",
              "      dtype='object')"
            ]
          },
          "metadata": {},
          "execution_count": 7
        }
      ]
    },
    {
      "cell_type": "markdown",
      "source": [
        "##**id**"
      ],
      "metadata": {
        "id": "TPyaEoX1ZPne"
      }
    },
    {
      "cell_type": "code",
      "source": [
        "df['id'].head()"
      ],
      "metadata": {
        "id": "DW2rnnLRZYgj",
        "colab": {
          "base_uri": "https://localhost:8080/"
        },
        "outputId": "82b06dbe-e69e-4758-c794-ded3ec85ea95"
      },
      "execution_count": null,
      "outputs": [
        {
          "output_type": "execute_result",
          "data": {
            "text/plain": [
              "0    2539\n",
              "1    2595\n",
              "2    3647\n",
              "3    3831\n",
              "4    5022\n",
              "Name: id, dtype: int64"
            ]
          },
          "metadata": {},
          "execution_count": 8
        }
      ]
    },
    {
      "cell_type": "code",
      "source": [
        "df['id'].shape"
      ],
      "metadata": {
        "id": "pap5xEsYZeyz",
        "colab": {
          "base_uri": "https://localhost:8080/"
        },
        "outputId": "fa2118ea-05eb-4a80-8b2e-8cf170d89b49"
      },
      "execution_count": null,
      "outputs": [
        {
          "output_type": "execute_result",
          "data": {
            "text/plain": [
              "(48895,)"
            ]
          },
          "metadata": {},
          "execution_count": 9
        }
      ]
    },
    {
      "cell_type": "code",
      "source": [
        "df['id'].unique()"
      ],
      "metadata": {
        "colab": {
          "base_uri": "https://localhost:8080/"
        },
        "id": "PwlosXo4ZwhY",
        "outputId": "35f60e3e-3ace-4a6a-8664-cd2bcb65731f"
      },
      "execution_count": null,
      "outputs": [
        {
          "output_type": "execute_result",
          "data": {
            "text/plain": [
              "array([    2539,     2595,     3647, ..., 36485431, 36485609, 36487245])"
            ]
          },
          "metadata": {},
          "execution_count": 10
        }
      ]
    },
    {
      "cell_type": "code",
      "source": [
        "pd.value_counts(df['id'].values)"
      ],
      "metadata": {
        "colab": {
          "base_uri": "https://localhost:8080/"
        },
        "id": "TSv88M-DZ2cX",
        "outputId": "832c2a21-3c92-4304-f6d0-f8a9858072d0"
      },
      "execution_count": null,
      "outputs": [
        {
          "output_type": "execute_result",
          "data": {
            "text/plain": [
              "2539        1\n",
              "25583366    1\n",
              "25551687    1\n",
              "25552076    1\n",
              "25554120    1\n",
              "           ..\n",
              "13121809    1\n",
              "13122135    1\n",
              "13122318    1\n",
              "13122932    1\n",
              "36487245    1\n",
              "Length: 48895, dtype: int64"
            ]
          },
          "metadata": {},
          "execution_count": 11
        }
      ]
    },
    {
      "cell_type": "markdown",
      "source": [
        "#**name**"
      ],
      "metadata": {
        "id": "yrSEQJw5z19N"
      }
    },
    {
      "cell_type": "code",
      "source": [
        "df['name'].head()"
      ],
      "metadata": {
        "id": "Oru0fFmVz-8t"
      },
      "execution_count": null,
      "outputs": []
    },
    {
      "cell_type": "code",
      "source": [
        "df['name'].unique"
      ],
      "metadata": {
        "id": "spAM-z-X0STz"
      },
      "execution_count": null,
      "outputs": []
    },
    {
      "cell_type": "code",
      "source": [
        "df['name'].value_counts()"
      ],
      "metadata": {
        "id": "VqBgqoqt0bE3"
      },
      "execution_count": null,
      "outputs": []
    },
    {
      "cell_type": "code",
      "source": [
        "df.drop_duplicates(['name'],inplace=True)\n",
        "df"
      ],
      "metadata": {
        "id": "Je-k4G0j0fLI"
      },
      "execution_count": null,
      "outputs": []
    },
    {
      "cell_type": "code",
      "source": [
        "df['name'].value_counts()"
      ],
      "metadata": {
        "id": "CrTKcRSH2Lng",
        "colab": {
          "base_uri": "https://localhost:8080/"
        },
        "outputId": "60ff6fe1-bfc1-4ef6-8d18-5c609324493e"
      },
      "execution_count": null,
      "outputs": [
        {
          "output_type": "execute_result",
          "data": {
            "text/plain": [
              "Hillside Hotel                                        18\n",
              "Home away from home                                   17\n",
              "New york Multi-unit building                          16\n",
              "Brooklyn Apartment                                    12\n",
              "Loft Suite @ The Box House Hotel                      11\n",
              "                                                      ..\n",
              "Large 1BR Apt. in Williamsburg                         1\n",
              "Feel at Home                                           1\n",
              "Spacious Modern Alcove Studio in a Luxury Building     1\n",
              "Artist's Room in Large Apartment                       1\n",
              "Trendy duplex in the very heart of Hell's Kitchen      1\n",
              "Name: name, Length: 47905, dtype: int64"
            ]
          },
          "metadata": {},
          "execution_count": 19
        }
      ]
    },
    {
      "cell_type": "code",
      "source": [
        "df[df['name']=='Hillside Hotel']"
      ],
      "metadata": {
        "id": "rElH_FSJ2fFX",
        "colab": {
          "base_uri": "https://localhost:8080/",
          "height": 162
        },
        "outputId": "ee731a83-f187-4758-9ec5-8ba037670bba"
      },
      "execution_count": null,
      "outputs": [
        {
          "output_type": "execute_result",
          "data": {
            "text/plain": [
              "             id            name    host_id       host_name  \\\n",
              "24152  19456810  Hillside Hotel  134184451  Hillside Hotel   \n",
              "\n",
              "      neighbourhood_group neighbourhood  latitude  longitude     room_type  \\\n",
              "24152              Queens     Briarwood  40.70454  -73.81549  Private room   \n",
              "\n",
              "       price  minimum_nights  number_of_reviews last_review  \\\n",
              "24152     93               1                  2  2017-07-23   \n",
              "\n",
              "       reviews_per_month  calculated_host_listings_count  availability_365  \n",
              "24152               0.08                              18                90  "
            ],
            "text/html": [
              "\n",
              "  <div id=\"df-252597a3-9cdf-4ac5-bba4-bbcb7214d969\">\n",
              "    <div class=\"colab-df-container\">\n",
              "      <div>\n",
              "<style scoped>\n",
              "    .dataframe tbody tr th:only-of-type {\n",
              "        vertical-align: middle;\n",
              "    }\n",
              "\n",
              "    .dataframe tbody tr th {\n",
              "        vertical-align: top;\n",
              "    }\n",
              "\n",
              "    .dataframe thead th {\n",
              "        text-align: right;\n",
              "    }\n",
              "</style>\n",
              "<table border=\"1\" class=\"dataframe\">\n",
              "  <thead>\n",
              "    <tr style=\"text-align: right;\">\n",
              "      <th></th>\n",
              "      <th>id</th>\n",
              "      <th>name</th>\n",
              "      <th>host_id</th>\n",
              "      <th>host_name</th>\n",
              "      <th>neighbourhood_group</th>\n",
              "      <th>neighbourhood</th>\n",
              "      <th>latitude</th>\n",
              "      <th>longitude</th>\n",
              "      <th>room_type</th>\n",
              "      <th>price</th>\n",
              "      <th>minimum_nights</th>\n",
              "      <th>number_of_reviews</th>\n",
              "      <th>last_review</th>\n",
              "      <th>reviews_per_month</th>\n",
              "      <th>calculated_host_listings_count</th>\n",
              "      <th>availability_365</th>\n",
              "    </tr>\n",
              "  </thead>\n",
              "  <tbody>\n",
              "    <tr>\n",
              "      <th>24152</th>\n",
              "      <td>19456810</td>\n",
              "      <td>Hillside Hotel</td>\n",
              "      <td>134184451</td>\n",
              "      <td>Hillside Hotel</td>\n",
              "      <td>Queens</td>\n",
              "      <td>Briarwood</td>\n",
              "      <td>40.70454</td>\n",
              "      <td>-73.81549</td>\n",
              "      <td>Private room</td>\n",
              "      <td>93</td>\n",
              "      <td>1</td>\n",
              "      <td>2</td>\n",
              "      <td>2017-07-23</td>\n",
              "      <td>0.08</td>\n",
              "      <td>18</td>\n",
              "      <td>90</td>\n",
              "    </tr>\n",
              "  </tbody>\n",
              "</table>\n",
              "</div>\n",
              "      <button class=\"colab-df-convert\" onclick=\"convertToInteractive('df-252597a3-9cdf-4ac5-bba4-bbcb7214d969')\"\n",
              "              title=\"Convert this dataframe to an interactive table.\"\n",
              "              style=\"display:none;\">\n",
              "        \n",
              "  <svg xmlns=\"http://www.w3.org/2000/svg\" height=\"24px\"viewBox=\"0 0 24 24\"\n",
              "       width=\"24px\">\n",
              "    <path d=\"M0 0h24v24H0V0z\" fill=\"none\"/>\n",
              "    <path d=\"M18.56 5.44l.94 2.06.94-2.06 2.06-.94-2.06-.94-.94-2.06-.94 2.06-2.06.94zm-11 1L8.5 8.5l.94-2.06 2.06-.94-2.06-.94L8.5 2.5l-.94 2.06-2.06.94zm10 10l.94 2.06.94-2.06 2.06-.94-2.06-.94-.94-2.06-.94 2.06-2.06.94z\"/><path d=\"M17.41 7.96l-1.37-1.37c-.4-.4-.92-.59-1.43-.59-.52 0-1.04.2-1.43.59L10.3 9.45l-7.72 7.72c-.78.78-.78 2.05 0 2.83L4 21.41c.39.39.9.59 1.41.59.51 0 1.02-.2 1.41-.59l7.78-7.78 2.81-2.81c.8-.78.8-2.07 0-2.86zM5.41 20L4 18.59l7.72-7.72 1.47 1.35L5.41 20z\"/>\n",
              "  </svg>\n",
              "      </button>\n",
              "      \n",
              "  <style>\n",
              "    .colab-df-container {\n",
              "      display:flex;\n",
              "      flex-wrap:wrap;\n",
              "      gap: 12px;\n",
              "    }\n",
              "\n",
              "    .colab-df-convert {\n",
              "      background-color: #E8F0FE;\n",
              "      border: none;\n",
              "      border-radius: 50%;\n",
              "      cursor: pointer;\n",
              "      display: none;\n",
              "      fill: #1967D2;\n",
              "      height: 32px;\n",
              "      padding: 0 0 0 0;\n",
              "      width: 32px;\n",
              "    }\n",
              "\n",
              "    .colab-df-convert:hover {\n",
              "      background-color: #E2EBFA;\n",
              "      box-shadow: 0px 1px 2px rgba(60, 64, 67, 0.3), 0px 1px 3px 1px rgba(60, 64, 67, 0.15);\n",
              "      fill: #174EA6;\n",
              "    }\n",
              "\n",
              "    [theme=dark] .colab-df-convert {\n",
              "      background-color: #3B4455;\n",
              "      fill: #D2E3FC;\n",
              "    }\n",
              "\n",
              "    [theme=dark] .colab-df-convert:hover {\n",
              "      background-color: #434B5C;\n",
              "      box-shadow: 0px 1px 3px 1px rgba(0, 0, 0, 0.15);\n",
              "      filter: drop-shadow(0px 1px 2px rgba(0, 0, 0, 0.3));\n",
              "      fill: #FFFFFF;\n",
              "    }\n",
              "  </style>\n",
              "\n",
              "      <script>\n",
              "        const buttonEl =\n",
              "          document.querySelector('#df-252597a3-9cdf-4ac5-bba4-bbcb7214d969 button.colab-df-convert');\n",
              "        buttonEl.style.display =\n",
              "          google.colab.kernel.accessAllowed ? 'block' : 'none';\n",
              "\n",
              "        async function convertToInteractive(key) {\n",
              "          const element = document.querySelector('#df-252597a3-9cdf-4ac5-bba4-bbcb7214d969');\n",
              "          const dataTable =\n",
              "            await google.colab.kernel.invokeFunction('convertToInteractive',\n",
              "                                                     [key], {});\n",
              "          if (!dataTable) return;\n",
              "\n",
              "          const docLinkHtml = 'Like what you see? Visit the ' +\n",
              "            '<a target=\"_blank\" href=https://colab.research.google.com/notebooks/data_table.ipynb>data table notebook</a>'\n",
              "            + ' to learn more about interactive tables.';\n",
              "          element.innerHTML = '';\n",
              "          dataTable['output_type'] = 'display_data';\n",
              "          await google.colab.output.renderOutput(dataTable, element);\n",
              "          const docLink = document.createElement('div');\n",
              "          docLink.innerHTML = docLinkHtml;\n",
              "          element.appendChild(docLink);\n",
              "        }\n",
              "      </script>\n",
              "    </div>\n",
              "  </div>\n",
              "  "
            ]
          },
          "metadata": {},
          "execution_count": 18
        }
      ]
    },
    {
      "cell_type": "markdown",
      "source": [
        "#**host_id**"
      ],
      "metadata": {
        "id": "1ou7Kpaw5BuW"
      }
    },
    {
      "cell_type": "code",
      "source": [
        "df['host_id'].head()"
      ],
      "metadata": {
        "colab": {
          "base_uri": "https://localhost:8080/"
        },
        "id": "SVGv8QQ35Wl6",
        "outputId": "fe0ded37-a327-4678-c051-e3f65bd3fae9"
      },
      "execution_count": null,
      "outputs": [
        {
          "output_type": "execute_result",
          "data": {
            "text/plain": [
              "0    2787\n",
              "1    2845\n",
              "2    4632\n",
              "3    4869\n",
              "4    7192\n",
              "Name: host_id, dtype: int64"
            ]
          },
          "metadata": {},
          "execution_count": 7
        }
      ]
    },
    {
      "cell_type": "code",
      "source": [
        "df['host_id'].unique"
      ],
      "metadata": {
        "colab": {
          "base_uri": "https://localhost:8080/"
        },
        "id": "8s0weKv85all",
        "outputId": "93318d4b-0a37-4dba-e905-aab3c7ca98eb"
      },
      "execution_count": null,
      "outputs": [
        {
          "output_type": "execute_result",
          "data": {
            "text/plain": [
              "<bound method Series.unique of 0            2787\n",
              "1            2845\n",
              "2            4632\n",
              "3            4869\n",
              "4            7192\n",
              "           ...   \n",
              "48890     8232441\n",
              "48891     6570630\n",
              "48892    23492952\n",
              "48893    30985759\n",
              "48894    68119814\n",
              "Name: host_id, Length: 48895, dtype: int64>"
            ]
          },
          "metadata": {},
          "execution_count": 8
        }
      ]
    },
    {
      "cell_type": "code",
      "source": [
        "df['host_id'].value_counts('0')"
      ],
      "metadata": {
        "colab": {
          "base_uri": "https://localhost:8080/"
        },
        "id": "ymSnUOm15nSr",
        "outputId": "cdd06d0b-dc09-446b-a99c-e5ed18213ac6"
      },
      "execution_count": null,
      "outputs": [
        {
          "output_type": "execute_result",
          "data": {
            "text/plain": [
              "219517861    0.006688\n",
              "107434423    0.004745\n",
              "30283594     0.002475\n",
              "137358866    0.002107\n",
              "16098958     0.001963\n",
              "               ...   \n",
              "23727216     0.000020\n",
              "89211125     0.000020\n",
              "19928013     0.000020\n",
              "1017772      0.000020\n",
              "68119814     0.000020\n",
              "Name: host_id, Length: 37457, dtype: float64"
            ]
          },
          "metadata": {},
          "execution_count": 15
        }
      ]
    },
    {
      "cell_type": "code",
      "source": [
        "df.hist('host_id');"
      ],
      "metadata": {
        "colab": {
          "base_uri": "https://localhost:8080/",
          "height": 621
        },
        "id": "IhdSs5mAn68i",
        "outputId": "31152134-d84b-4723-e968-d94c859727f2"
      },
      "execution_count": null,
      "outputs": [
        {
          "output_type": "display_data",
          "data": {
            "text/plain": [
              "<Figure size 1440x720 with 1 Axes>"
            ],
            "image/png": "[encoded data removed]"
          },
          "metadata": {
            "needs_background": "light"
          }
        }
      ]
    },
    {
      "cell_type": "markdown",
      "source": [
        "#**neighbourhood_group**"
      ],
      "metadata": {
        "id": "jI0-EeOztQYv"
      }
    },
    {
      "cell_type": "code",
      "source": [
        "df['neighbourhood_group'].head()"
      ],
      "metadata": {
        "id": "hLAb_5NB5tta",
        "colab": {
          "base_uri": "https://localhost:8080/"
        },
        "outputId": "922458c4-d6da-4c0f-ad0f-9bcabb583b45"
      },
      "execution_count": null,
      "outputs": [
        {
          "output_type": "execute_result",
          "data": {
            "text/plain": [
              "0     Brooklyn\n",
              "1    Manhattan\n",
              "2    Manhattan\n",
              "3     Brooklyn\n",
              "4    Manhattan\n",
              "Name: neighbourhood_group, dtype: object"
            ]
          },
          "metadata": {},
          "execution_count": 8
        }
      ]
    },
    {
      "cell_type": "code",
      "source": [
        "df['neighbourhood_group'].unique"
      ],
      "metadata": {
        "colab": {
          "base_uri": "https://localhost:8080/"
        },
        "id": "kWGnpLb9tbqO",
        "outputId": "d85173b6-32d8-4fb9-ad0f-998d2bbefbd0"
      },
      "execution_count": null,
      "outputs": [
        {
          "output_type": "execute_result",
          "data": {
            "text/plain": [
              "<bound method Series.unique of 0         Brooklyn\n",
              "1        Manhattan\n",
              "2        Manhattan\n",
              "3         Brooklyn\n",
              "4        Manhattan\n",
              "           ...    \n",
              "48890     Brooklyn\n",
              "48891     Brooklyn\n",
              "48892    Manhattan\n",
              "48893    Manhattan\n",
              "48894    Manhattan\n",
              "Name: neighbourhood_group, Length: 48895, dtype: object>"
            ]
          },
          "metadata": {},
          "execution_count": 9
        }
      ]
    },
    {
      "cell_type": "code",
      "source": [
        "df['neighbourhood_group'].value_counts()"
      ],
      "metadata": {
        "colab": {
          "base_uri": "https://localhost:8080/"
        },
        "id": "OcgxIXmttqzg",
        "outputId": "eb92e23d-dfa9-432e-d4ed-67913f5ae200"
      },
      "execution_count": null,
      "outputs": [
        {
          "output_type": "execute_result",
          "data": {
            "text/plain": [
              "Manhattan        21661\n",
              "Brooklyn         20104\n",
              "Queens            5666\n",
              "Bronx             1091\n",
              "Staten Island      373\n",
              "Name: neighbourhood_group, dtype: int64"
            ]
          },
          "metadata": {},
          "execution_count": 12
        }
      ]
    },
    {
      "cell_type": "code",
      "source": [
        "\n",
        "plt.rcParams['figure.figsize'] = (20, 10)\n",
        "df['neighbourhood_group'].value_counts().plot(kind='bar')"
      ],
      "metadata": {
        "colab": {
          "base_uri": "https://localhost:8080/",
          "height": 664
        },
        "id": "kAvVt-hzuAw-",
        "outputId": "625dd4a0-a2a0-4766-99fc-8b6ce0d372d5"
      },
      "execution_count": null,
      "outputs": [
        {
          "output_type": "execute_result",
          "data": {
            "text/plain": [
              "<matplotlib.axes._subplots.AxesSubplot at 0x7fa0aa10c950>"
            ]
          },
          "metadata": {},
          "execution_count": 13
        },
        {
          "output_type": "display_data",
          "data": {
            "text/plain": [
              "<Figure size 1440x720 with 1 Axes>"
            ],
            "image/png": "[encoded data removed]"
          },
          "metadata": {
            "needs_background": "light"
          }
        }
      ]
    },
    {
      "cell_type": "markdown",
      "source": [
        "#**host_name**"
      ],
      "metadata": {
        "id": "blmy7ksy-SRY"
      }
    },
    {
      "cell_type": "code",
      "source": [
        "df['host_name'].head()"
      ],
      "metadata": {
        "id": "je71i-XMvRyB"
      },
      "execution_count": null,
      "outputs": []
    },
    {
      "cell_type": "code",
      "source": [
        "df['host_name'].unique"
      ],
      "metadata": {
        "id": "2wuQe6i0-_uy"
      },
      "execution_count": null,
      "outputs": []
    },
    {
      "cell_type": "code",
      "source": [
        "df['host_name'].value_counts()"
      ],
      "metadata": {
        "colab": {
          "base_uri": "https://localhost:8080/"
        },
        "id": "aKDaNcl5_NqB",
        "outputId": "bc70c90f-6dc4-4a1e-8860-a37e40f61d52"
      },
      "execution_count": null,
      "outputs": [
        {
          "output_type": "execute_result",
          "data": {
            "text/plain": [
              "Michael              417\n",
              "David                403\n",
              "Sonder (NYC)         327\n",
              "John                 294\n",
              "Alex                 279\n",
              "                    ... \n",
              "Rhonycs                1\n",
              "Brandy-Courtney        1\n",
              "Shanthony              1\n",
              "Aurore And Jamila      1\n",
              "Ilgar & Aysel          1\n",
              "Name: host_name, Length: 11452, dtype: int64"
            ]
          },
          "metadata": {},
          "execution_count": 21
        }
      ]
    },
    {
      "cell_type": "code",
      "source": [],
      "metadata": {
        "id": "iMy70RuhAP1M"
      },
      "execution_count": null,
      "outputs": []
    },
    {
      "cell_type": "markdown",
      "source": [
        "#**neighbourhood**"
      ],
      "metadata": {
        "id": "QSxc__u5A1gt"
      }
    },
    {
      "cell_type": "code",
      "source": [
        "df['neighbourhood']"
      ],
      "metadata": {
        "id": "z3nu0PwXA60c"
      },
      "execution_count": null,
      "outputs": []
    },
    {
      "cell_type": "code",
      "source": [
        "df['neighbourhood'].unique"
      ],
      "metadata": {
        "id": "W-yA92r8Bl3K"
      },
      "execution_count": null,
      "outputs": []
    },
    {
      "cell_type": "code",
      "source": [
        "df['neighbourhood'].value_counts()"
      ],
      "metadata": {
        "id": "x79qFXMuBsu3"
      },
      "execution_count": null,
      "outputs": []
    },
    {
      "cell_type": "code",
      "source": [
        "df.groupby('neighbourhood')['neighbourhood_group'].max().reset_index()"
      ],
      "metadata": {
        "id": "roPLJh0IDlmO"
      },
      "execution_count": null,
      "outputs": []
    },
    {
      "cell_type": "code",
      "source": [
        "df['neighbourhood'].value_counts()"
      ],
      "metadata": {
        "id": "L18mXTJcINey"
      },
      "execution_count": null,
      "outputs": []
    },
    {
      "cell_type": "code",
      "source": [],
      "metadata": {
        "id": "nDeePp8xMbbl"
      },
      "execution_count": null,
      "outputs": []
    },
    {
      "cell_type": "markdown",
      "source": [
        "#**latitude**"
      ],
      "metadata": {
        "id": "wUwiGCEiMpga"
      }
    },
    {
      "cell_type": "code",
      "source": [
        "df['latitude']"
      ],
      "metadata": {
        "id": "xqzr6dhbM25f"
      },
      "execution_count": null,
      "outputs": []
    },
    {
      "cell_type": "code",
      "source": [
        "df['latitude'].unique"
      ],
      "metadata": {
        "id": "oNgDD2SmM4K4"
      },
      "execution_count": null,
      "outputs": []
    },
    {
      "cell_type": "code",
      "source": [
        "df['latitude'].value_counts()"
      ],
      "metadata": {
        "colab": {
          "base_uri": "https://localhost:8080/"
        },
        "id": "8mvLEnnJM-Ll",
        "outputId": "fd873d10-7321-42d1-8759-7dfcf67bdf35"
      },
      "execution_count": null,
      "outputs": [
        {
          "output_type": "execute_result",
          "data": {
            "text/plain": [
              "40.71813    18\n",
              "40.68444    13\n",
              "40.69414    13\n",
              "40.68634    13\n",
              "40.76125    12\n",
              "            ..\n",
              "40.78084     1\n",
              "40.66767     1\n",
              "40.77473     1\n",
              "40.79343     1\n",
              "40.81475     1\n",
              "Name: latitude, Length: 19048, dtype: int64"
            ]
          },
          "metadata": {},
          "execution_count": 47
        }
      ]
    },
    {
      "cell_type": "code",
      "source": [
        "df.hist('latitude')"
      ],
      "metadata": {
        "colab": {
          "base_uri": "https://localhost:8080/",
          "height": 642
        },
        "id": "xTx7923nNE0n",
        "outputId": "e67fcee0-3735-487a-8575-772eec836105"
      },
      "execution_count": null,
      "outputs": [
        {
          "output_type": "execute_result",
          "data": {
            "text/plain": [
              "array([[<matplotlib.axes._subplots.AxesSubplot object at 0x7ff07c682550>]],\n",
              "      dtype=object)"
            ]
          },
          "metadata": {},
          "execution_count": 46
        },
        {
          "output_type": "display_data",
          "data": {
            "text/plain": [
              "<Figure size 1440x720 with 1 Axes>"
            ],
            "image/png": "[encoded data removed]"
          },
          "metadata": {
            "needs_background": "light"
          }
        }
      ]
    },
    {
      "cell_type": "markdown",
      "source": [
        "#**longitude**"
      ],
      "metadata": {
        "id": "g1fnroh-OdjI"
      }
    },
    {
      "cell_type": "code",
      "source": [
        "df['longitude']"
      ],
      "metadata": {
        "colab": {
          "base_uri": "https://localhost:8080/"
        },
        "id": "i6dj4Xu7NI3n",
        "outputId": "c8efd5ff-5fb9-45cf-afea-57442634d5ee"
      },
      "execution_count": null,
      "outputs": [
        {
          "output_type": "execute_result",
          "data": {
            "text/plain": [
              "0       -73.97237\n",
              "1       -73.98377\n",
              "2       -73.94190\n",
              "3       -73.95976\n",
              "4       -73.94399\n",
              "           ...   \n",
              "48890   -73.94995\n",
              "48891   -73.93317\n",
              "48892   -73.94867\n",
              "48893   -73.99112\n",
              "48894   -73.98933\n",
              "Name: longitude, Length: 48895, dtype: float64"
            ]
          },
          "metadata": {},
          "execution_count": 48
        }
      ]
    },
    {
      "cell_type": "code",
      "source": [
        "df['longitude'].unique"
      ],
      "metadata": {
        "id": "0KzPMtZhOjtA"
      },
      "execution_count": null,
      "outputs": []
    },
    {
      "cell_type": "code",
      "source": [
        "df['longitude'].value_counts()"
      ],
      "metadata": {
        "colab": {
          "base_uri": "https://localhost:8080/"
        },
        "id": "s3ZXcJS2Om4X",
        "outputId": "49aa24d4-c0a7-4e1e-9214-5985549310dc"
      },
      "execution_count": null,
      "outputs": [
        {
          "output_type": "execute_result",
          "data": {
            "text/plain": [
              "-73.95677    18\n",
              "-73.95427    18\n",
              "-73.95405    17\n",
              "-73.95060    16\n",
              "-73.94791    16\n",
              "             ..\n",
              "-73.85155     1\n",
              "-73.83167     1\n",
              "-73.85058     1\n",
              "-73.79232     1\n",
              "-73.80844     1\n",
              "Name: longitude, Length: 14718, dtype: int64"
            ]
          },
          "metadata": {},
          "execution_count": 52
        }
      ]
    },
    {
      "cell_type": "code",
      "source": [
        "df.hist('longitude');"
      ],
      "metadata": {
        "colab": {
          "base_uri": "https://localhost:8080/",
          "height": 607
        },
        "id": "VRTRA7YuQix6",
        "outputId": "d0c65645-0b4f-4f4a-aafd-dc1f5cedbd35"
      },
      "execution_count": null,
      "outputs": [
        {
          "output_type": "display_data",
          "data": {
            "text/plain": [
              "<Figure size 1440x720 with 1 Axes>"
            ],
            "image/png": "[encoded data removed]"
          },
          "metadata": {
            "needs_background": "light"
          }
        }
      ]
    },
    {
      "cell_type": "code",
      "source": [],
      "metadata": {
        "id": "AY_Yp_0gQsef"
      },
      "execution_count": null,
      "outputs": []
    },
    {
      "cell_type": "markdown",
      "source": [
        "#**room_type**"
      ],
      "metadata": {
        "id": "MaPxPltefl_V"
      }
    },
    {
      "cell_type": "code",
      "source": [
        "df['room_type']"
      ],
      "metadata": {
        "id": "Wv1z0IzqfqcI"
      },
      "execution_count": null,
      "outputs": []
    },
    {
      "cell_type": "code",
      "source": [
        "df['room_type'].unique()"
      ],
      "metadata": {
        "colab": {
          "base_uri": "https://localhost:8080/"
        },
        "id": "mhdCQnP0frk7",
        "outputId": "e06c9e9e-069e-4ac4-86f3-d884b91e2fb6"
      },
      "execution_count": 6,
      "outputs": [
        {
          "output_type": "execute_result",
          "data": {
            "text/plain": [
              "array(['Private room', 'Entire home/apt', 'Shared room'], dtype=object)"
            ]
          },
          "metadata": {},
          "execution_count": 6
        }
      ]
    },
    {
      "cell_type": "code",
      "source": [
        "df['room_type'].value_counts()"
      ],
      "metadata": {
        "colab": {
          "base_uri": "https://localhost:8080/"
        },
        "id": "oh0F1dFNfxIF",
        "outputId": "a2522eee-bd86-49bc-92d1-ff6322da310d"
      },
      "execution_count": 21,
      "outputs": [
        {
          "output_type": "execute_result",
          "data": {
            "text/plain": [
              "Entire home/apt    25409\n",
              "Private room       22326\n",
              "Shared room         1160\n",
              "Name: room_type, dtype: int64"
            ]
          },
          "metadata": {},
          "execution_count": 21
        }
      ]
    },
    {
      "cell_type": "code",
      "source": [
        "plt.rcParams['figure.figsize']=(20,10)\n",
        "df['room_type'].value_counts().plot(kind='bar')\n"
      ],
      "metadata": {
        "colab": {
          "base_uri": "https://localhost:8080/",
          "height": 679
        },
        "id": "mfgtPGVBvJG9",
        "outputId": "6d78a6ba-6520-4007-be17-86e63f7898e8"
      },
      "execution_count": 20,
      "outputs": [
        {
          "output_type": "execute_result",
          "data": {
            "text/plain": [
              "<matplotlib.axes._subplots.AxesSubplot at 0x7f1d37422ed0>"
            ]
          },
          "metadata": {},
          "execution_count": 20
        },
        {
          "output_type": "display_data",
          "data": {
            "text/plain": [
              "<Figure size 1440x720 with 1 Axes>"
            ],
            "image/png": "[encoded data removed]"
          },
          "metadata": {
            "needs_background": "light"
          }
        }
      ]
    },
    {
      "cell_type": "code",
      "source": [
        "plt.figure(figsize=(10,10))\n",
        "labels=df['room_type'].value_counts(sort=True).index\n",
        "size=df['room_type'].value_counts()\n",
        "colors=['r','g','y']\n",
        "explode=[0,0.1,0.3]\n",
        "plt.pie(size,labels=labels,autopct='%.1f%%',colors=colors,explode=explode)\n"
      ],
      "metadata": {
        "colab": {
          "base_uri": "https://localhost:8080/",
          "height": 731
        },
        "id": "3kHotLsdhiSe",
        "outputId": "d6d50e96-f944-46d9-ee2b-90a5824dc6eb"
      },
      "execution_count": 15,
      "outputs": [
        {
          "output_type": "execute_result",
          "data": {
            "text/plain": [
              "([<matplotlib.patches.Wedge at 0x7f1d3748c990>,\n",
              "  <matplotlib.patches.Wedge at 0x7f1d37417210>,\n",
              "  <matplotlib.patches.Wedge at 0x7f1d37417950>],\n",
              " [Text(-0.06791271159741047, 1.0979015728213013, 'Entire home/apt'),\n",
              "  Text(-0.015304413998788624, -1.1999024022445133, 'Private room'),\n",
              "  Text(1.3961132679785746, -0.10424846749082, 'Shared room')],\n",
              " [Text(-0.037043297234951165, 0.5988554033570733, '52.0%'),\n",
              "  Text(-0.008927574832626696, -0.699943067975966, '45.7%'),\n",
              "  Text(0.8975013865576551, -0.06701687195838428, '2.4%')])"
            ]
          },
          "metadata": {},
          "execution_count": 15
        },
        {
          "output_type": "display_data",
          "data": {
            "text/plain": [
              "<Figure size 720x720 with 1 Axes>"
            ],
            "image/png": "[encoded data removed]"
          },
          "metadata": {}
        }
      ]
    },
    {
      "cell_type": "markdown",
      "source": [
        "#**price**"
      ],
      "metadata": {
        "id": "CCmB40Xt0ZcR"
      }
    },
    {
      "cell_type": "code",
      "source": [
        "df['price']"
      ],
      "metadata": {
        "id": "qYozkZREupi-"
      },
      "execution_count": null,
      "outputs": []
    },
    {
      "cell_type": "code",
      "source": [
        "df['price'].unique()"
      ],
      "metadata": {
        "colab": {
          "base_uri": "https://localhost:8080/"
        },
        "id": "xwpk3Jm30i5l",
        "outputId": "227cea41-36f1-4cbd-f9a8-8046f0123f76"
      },
      "execution_count": 39,
      "outputs": [
        {
          "output_type": "execute_result",
          "data": {
            "text/plain": [
              "array([  149,   225,   150,    89,    80,   200,    60,    79,   135,\n",
              "          85,   120,   140,   215,    99,   190,   299,   130,   110,\n",
              "          44,   180,    50,    52,    55,    70,    35,    40,    68,\n",
              "         115,   151,   228,   144,    69,    49,   375,   250,   275,\n",
              "         230,    51,    65,   105,    95,   145,   285,    94,   800,\n",
              "         131,    98,   100,   125,   175,   500,   101,   220,    59,\n",
              "         350,   199,   325,   235,   170,   400,    75,    90,   185,\n",
              "          77,    76,   160,   195,   156,   219,   475,   165,   196,\n",
              "          83,   123,   265,   249,   121,    45,    71,    64,   159,\n",
              "         189,   239,   305,   155,    92,    36,    37,   205,    39,\n",
              "         390,   129,   212,   124,   122,   109,   575,   229,   169,\n",
              "         113,   179,   349,   139,   650,    67,   599,   211,   290,\n",
              "          87,   395,   260,    97,   132,   141,   495,   259,    96,\n",
              "         295,   451,   300,    42,   255,    72,    88,   450,   198,\n",
              "          46,    33,   106,    91,  2000,   429,   107,    43,   248,\n",
              "          41,   157,   172,   146,   116,   288,   270,   241,   399,\n",
              "         438,   279,   137,   280,   226,   154,   700,   246,   119,\n",
              "         850,    81,    54,   760,    48,    58,   153,    73,   485,\n",
              "         310,   167,   147,    34,    93,    56,  1300,   127,   402,\n",
              "          30,   240,   385,    47,   209,   192,    86,   245,   499,\n",
              "         387,   178,  3000,   549,    20,    74,   104,   298,   269,\n",
              "         138,   208,   142,   174,   315,   210,   311,    82,   117,\n",
              "         380,   328,   102,   118,   217,   152,   197,   133,   331,\n",
              "         128,   136,   148,  1000,   263,   433,    61,   234,   595,\n",
              "         108,   355,   134,    62,   550,    84,    78,   900,   103,\n",
              "         330,   425,   168,    66,   625,   171,   187,   600,   312,\n",
              "          38,   163,   158,   173,   465,    63,   340,    57,  4000,\n",
              "         999,   289,   166,   176,   339,   191,  2500,   329,   890,\n",
              "          53,   420,   950,   334,  1395,   221,   182,   750,   181,\n",
              "         112,  1500,  1899,   188,   262,   111,   162,    29,   232,\n",
              "        5000,   345,  1100,   224,    10,   194,    31,  1200,   440,\n",
              "         439,   555,   143,   184,   799,   455,   193,   161,   201,\n",
              "        1700,   525,    32,   251,  1999,   480,   320,   164,   272,\n",
              "         177,   560,  6000,   379,   303,   675,   749,  5250,  1550,\n",
              "        1250,  1485,   369,  6500,  2750,  3750,  1600,   975,    25,\n",
              "          18,  2300,   409,   218,   430,  4500,  8000,   795,   414,\n",
              "         126,    16,   785,   370,    22,   316,   264,   318,   273,\n",
              "         308,   365,   216,   545,   860,   540,   233,  1400,   383,\n",
              "         419,  1050,  2695,   985,   360,   699,   227,   247,   895,\n",
              "        9999,   258,  2400,   254,   346,   415,   995,  1763,   510,\n",
              "        1450,   281,    27,    28,   825,   524,   202,   244,   114,\n",
              "         341,   257,   322,   276,   207,   445,   284,   449,   680,\n",
              "        1495,   256,   888,   389,   460, 10000,   222,   243,   267,\n",
              "         398,   386,   319,   238,   374,   490,   335,  1195,   203,\n",
              "         469,   186,   352,   297,   237,   745,   410,  1170,   261,\n",
              "        1150,   434,   590,   899,   304,   296,   183,   531,   214,\n",
              "         655,    24,   477,   372,   206,    26,   587,   204,  1731,\n",
              "        1002,   333,   283,   814,  1800,   278,   421,   690,   619,\n",
              "        2100,   348,   223,   268,   359,   436,   935,   274,   376,\n",
              "         980,   294,   559,   509,   301,   408,  3800,   479,  2350,\n",
              "         822,    23,   407,   489,   252,   672,   378,   584,   894,\n",
              "         643,   462,   649,   302,   321,   534,   748,   487,   236,\n",
              "        1020,    19,  1599,    21,   585,  2590,    11,   640,   459,\n",
              "          12,  2250,   484,   337,   317,    15,  2800,  1475,   615,\n",
              "        2900,   287,     0,   515,  1067,   424,   578,   789,  1795,\n",
              "        1095,   530,  3900,   496,   435,   422,   367,   695,  1177,\n",
              "         790,   253,   573,   766,   231,   840,   577,   589,   949,\n",
              "         358,   213,  2200,   497,  1066,   412,   647,   277,   720,\n",
              "        2010,  3210,  4160,  1046,   271,   416,  1680,  7703,  3518,\n",
              "        6419,  2626,  2103,  8500,  2990,   620,   394,   323,   974,\n",
              "         344,  1333,   780,   347,   393,   309,   483,   737,   470,\n",
              "         689,   639,   848,   403,   471,   377,   282,   314,   478,\n",
              "         670,  2545,  1115,   520,   913,   505,   718,   692,  3600,\n",
              "         307,   306,  1880,   714,   956,   266,   292,  2999,   418,\n",
              "         452,   397,   343,   291,   392,   356,   242,   396,   332,\n",
              "         361,   453,   481,   466,   388,   423,   362,   313,   805,\n",
              "         725,   443,  1350,  3200,   293,   432,   444,  1075,   820,\n",
              "         373,  1750,  1080,  1299,  1295,   519,  1978,  1494,  3512,\n",
              "         382,   404,   503,   472,   454,   431,   468,   498,   612,\n",
              "         488,  1497,  2850,   990,   506,   324,  1315,   446,  7500,\n",
              "        3613,  2600,  4100,   794,  1145,  1306,   336,  5100,   898,\n",
              "         327,   442,   474,  1799,   353,  4200,   616,  6800,   945,\n",
              "         539,   426,   875,   463,   688,   580,   583,   381,  1900,\n",
              "         659,   830,    13,   447,  1099,   428,   920,   930,  2995,\n",
              "         342,   843,   417,  1308,   561,  1369,  1749,   338])"
            ]
          },
          "metadata": {},
          "execution_count": 39
        }
      ]
    },
    {
      "cell_type": "code",
      "source": [
        "max(df['price'])"
      ],
      "metadata": {
        "id": "8ZFW2mq000dq"
      },
      "execution_count": null,
      "outputs": []
    },
    {
      "cell_type": "code",
      "source": [
        "min(df['price'])"
      ],
      "metadata": {
        "id": "Ipkcjb4D1HqY"
      },
      "execution_count": null,
      "outputs": []
    },
    {
      "cell_type": "code",
      "source": [
        "df['price'].value_counts()"
      ],
      "metadata": {
        "colab": {
          "base_uri": "https://localhost:8080/"
        },
        "id": "y8I7Ycp-1Nyk",
        "outputId": "2a7c65d6-676c-4c64-cf29-cd40f524fc69"
      },
      "execution_count": 38,
      "outputs": [
        {
          "output_type": "execute_result",
          "data": {
            "text/plain": [
              "100    2051\n",
              "150    2047\n",
              "50     1534\n",
              "60     1458\n",
              "200    1401\n",
              "       ... \n",
              "780       1\n",
              "386       1\n",
              "888       1\n",
              "483       1\n",
              "338       1\n",
              "Name: price, Length: 674, dtype: int64"
            ]
          },
          "metadata": {},
          "execution_count": 38
        }
      ]
    },
    {
      "cell_type": "code",
      "source": [
        "sns.distplot(df['price'],hist=True)"
      ],
      "metadata": {
        "colab": {
          "base_uri": "https://localhost:8080/",
          "height": 678
        },
        "id": "V9nfGge81T9Y",
        "outputId": "4470cd91-2b08-498c-c6f9-5688e9f5a15c"
      },
      "execution_count": 35,
      "outputs": [
        {
          "output_type": "stream",
          "name": "stderr",
          "text": [
            "/usr/local/lib/python3.7/dist-packages/seaborn/distributions.py:2619: FutureWarning: `distplot` is a deprecated function and will be removed in a future version. Please adapt your code to use either `displot` (a figure-level function with similar flexibility) or `histplot` (an axes-level function for histograms).\n",
            "  warnings.warn(msg, FutureWarning)\n"
          ]
        },
        {
          "output_type": "execute_result",
          "data": {
            "text/plain": [
              "<matplotlib.axes._subplots.AxesSubplot at 0x7f1d34683590>"
            ]
          },
          "metadata": {},
          "execution_count": 35
        },
        {
          "output_type": "display_data",
          "data": {
            "text/plain": [
              "<Figure size 1440x720 with 1 Axes>"
            ],
            "image/png": "[encoded data removed]"
          },
          "metadata": {
            "needs_background": "light"
          }
        }
      ]
    },
    {
      "cell_type": "markdown",
      "source": [
        "#**minimum_nights**"
      ],
      "metadata": {
        "id": "lLp2s9Kw3lpd"
      }
    },
    {
      "cell_type": "code",
      "source": [
        "df['minimum_nights']"
      ],
      "metadata": {
        "id": "4rywuDKu1pFp"
      },
      "execution_count": null,
      "outputs": []
    },
    {
      "cell_type": "code",
      "source": [
        "df['minimum_nights'].unique()"
      ],
      "metadata": {
        "id": "q2fT9evE3sLZ"
      },
      "execution_count": null,
      "outputs": []
    },
    {
      "cell_type": "code",
      "source": [
        "max(df['minimum_nights'])"
      ],
      "metadata": {
        "colab": {
          "base_uri": "https://localhost:8080/"
        },
        "id": "P3-baAwX34pC",
        "outputId": "a737d46e-4d50-4f52-97de-febcf4ac8715"
      },
      "execution_count": 42,
      "outputs": [
        {
          "output_type": "execute_result",
          "data": {
            "text/plain": [
              "1250"
            ]
          },
          "metadata": {},
          "execution_count": 42
        }
      ]
    },
    {
      "cell_type": "code",
      "source": [
        "min(df['minimum_nights'])"
      ],
      "metadata": {
        "colab": {
          "base_uri": "https://localhost:8080/"
        },
        "id": "pp5p-6GQ3-ZE",
        "outputId": "51b774fc-4052-45fd-a4d0-d989dd29aed3"
      },
      "execution_count": 43,
      "outputs": [
        {
          "output_type": "execute_result",
          "data": {
            "text/plain": [
              "1"
            ]
          },
          "metadata": {},
          "execution_count": 43
        }
      ]
    },
    {
      "cell_type": "code",
      "source": [
        "df['minimum_nights'].value_counts()"
      ],
      "metadata": {
        "id": "12pgpjTU5g6J"
      },
      "execution_count": null,
      "outputs": []
    },
    {
      "cell_type": "code",
      "source": [
        "df.hist('minimum_nights')"
      ],
      "metadata": {
        "colab": {
          "base_uri": "https://localhost:8080/",
          "height": 642
        },
        "id": "MvkAfQBf4DKC",
        "outputId": "1f6c1b94-50dc-4c4b-a79f-78e4a40eb1b0"
      },
      "execution_count": 44,
      "outputs": [
        {
          "output_type": "execute_result",
          "data": {
            "text/plain": [
              "array([[<matplotlib.axes._subplots.AxesSubplot object at 0x7f1d345a2110>]],\n",
              "      dtype=object)"
            ]
          },
          "metadata": {},
          "execution_count": 44
        },
        {
          "output_type": "display_data",
          "data": {
            "text/plain": [
              "<Figure size 1440x720 with 1 Axes>"
            ],
            "image/png": "[encoded data removed]"
          },
          "metadata": {
            "needs_background": "light"
          }
        }
      ]
    },
    {
      "cell_type": "code",
      "source": [],
      "metadata": {
        "id": "U1pYlnP15dkn"
      },
      "execution_count": null,
      "outputs": []
    }
  ]
}