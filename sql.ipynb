{
  "nbformat": 4,
  "nbformat_minor": 0,
  "metadata": {
    "colab": {
      "provenance": [],
      "collapsed_sections": [],
      "authorship_tag": "ABX9TyMNnO8wkn4AMouISKmMq/gU",
      "include_colab_link": true
    },
    "kernelspec": {
      "name": "python3",
      "display_name": "Python 3"
    },
    "language_info": {
      "name": "python"
    }
  },
  "cells": [
    {
      "cell_type": "markdown",
      "metadata": {
        "id": "view-in-github",
        "colab_type": "text"
      },
      "source": [
        "<a href=\"https://colab.research.google.com/github/Gauravmehra1/Airbnb/blob/main/sql.ipynb\" target=\"_parent\"><img src=\"https://colab.research.google.com/assets/colab-badge.svg\" alt=\"Open In Colab\"/></a>"
      ]
    },
    {
      "cell_type": "code",
      "execution_count": null,
      "metadata": {
        "id": "USUJNyx5jGSE"
      },
      "outputs": [],
      "source": []
    },
    {
      "cell_type": "markdown",
      "source": [
        "1. Given an Order Table with the schema (id, user_id, total, created). Write a SQL Query to create a retention plot. The format for the raw data and output are given.  Refer to Q1.xlsx file\n",
        "\n",
        "\n",
        "Week Start Date is the 1st Week in which the User_Id Placed the order, Week 0 is Unique User ids who placed their 1st Order in this week. Out of those ids, Week 1 is unique users who placed an order in 1st Week + 1, Then Week 2 is 1st Week + 2 and so on till Week 10.\n"
      ],
      "metadata": {
        "id": "80Mrl7SCjKSS"
      }
    },
    {
      "cell_type": "code",
      "source": [
        "show datestyle\n",
        "set datestyle to german\n",
        "\n",
        "CREATE table q1(\n",
        "    id integer,\n",
        "    user_id integer,\n",
        "    total integer,\n",
        "    created timestamptz \n",
        ")\n",
        "\n",
        "select * from q1\n",
        "\n",
        "/* answer 1 */    \n",
        "    \n",
        "CREATE TEMPORARY table g1 as\n",
        "select user_id , min(date_part('week',created)) as first_week from q1\n",
        "group by user_id\n",
        "\n",
        "select * from g1 order by user_id\n",
        "\n",
        "CREATE TEMPORARY table all_weeks as \n",
        "select user_id, date_part('week',created) as login_week from q1\n",
        "group by user_id,login_week\n",
        "\n",
        "select * from all_weeks order by user_id \n",
        "\n",
        "create TEMPORARY table week_diff as \n",
        "select a.user_id, a.login_week,b.first_week, a.login_week - b.first_week as week_number\n",
        "from all_weeks a\n",
        "inner join g1 b\n",
        "on a.user_id = b.user_id \n",
        "\n",
        "select * from week_diff \n",
        "\n",
        "SELECT first_week,\n",
        "    sum(case when week_number=0 then 1 else 0 end) as week_0,\n",
        "\tsum(case when week_number=1 THEN 1 else 0 end) as week_1,\n",
        "\tsum(case when week_number=2 THEN 1 else 0 end) as week_2,\n",
        "\tsum(case when week_number=3 THEN 1 else 0 end) as week_3,\n",
        "\tsum(case when week_number=4 THEN 1 else 0 end) as week_4,\n",
        "\tsum(case when week_number=5 THEN 1 else 0 end) as week_5,\n",
        "\tsum(case when week_number=6 THEN 1 else 0 end) as week_6,\n",
        "\tsum(case when week_number=7 THEN 1 else 0 end) as week_7,\n",
        "\tsum(case when week_number=8 THEN 1 else 0 end) as week_8,\n",
        "\tsum(case when week_number=9 THEN 1 else 0 end) as week_9,\n",
        "\tsum(case when week_number=10 THEN 1 else 0 end) as week_10\n",
        "\t\n",
        "from week_diff\t\n",
        "group by first_week \n",
        "order by first_week "
      ],
      "metadata": {
        "id": "4Iw4DOKljMnh"
      },
      "execution_count": null,
      "outputs": []
    }
  ]
}