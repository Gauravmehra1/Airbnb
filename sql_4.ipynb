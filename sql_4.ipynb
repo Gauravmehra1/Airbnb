{
  "nbformat": 4,
  "nbformat_minor": 0,
  "metadata": {
    "colab": {
      "provenance": [],
      "authorship_tag": "ABX9TyPOSpOwyTX3lgePPZl9dbDP",
      "include_colab_link": true
    },
    "kernelspec": {
      "name": "python3",
      "display_name": "Python 3"
    },
    "language_info": {
      "name": "python"
    }
  },
  "cells": [
    {
      "cell_type": "markdown",
      "metadata": {
        "id": "view-in-github",
        "colab_type": "text"
      },
      "source": [
        "<a href=\"https://colab.research.google.com/github/Gauravmehra1/Airbnb/blob/main/sql_4.ipynb\" target=\"_parent\"><img src=\"https://colab.research.google.com/assets/colab-badge.svg\" alt=\"Open In Colab\"/></a>"
      ]
    },
    {
      "cell_type": "code",
      "execution_count": null,
      "metadata": {
        "id": "NOriI8_PmGQh"
      },
      "outputs": [],
      "source": []
    },
    {
      "cell_type": "markdown",
      "source": [
        "1. Given two tables below, write a query to display the comparison result (higher/lower/same) of the average salary of employees in a department to the company’s average salary."
      ],
      "metadata": {
        "id": "BupxpKiEm0HP"
      }
    },
    {
      "cell_type": "code",
      "source": [
        "CREATE  TABLE  salary(\n",
        "id integer,\n",
        "employee_id INTEGER,\n",
        "amount INTEGER,\n",
        "pay_date TIMESTAMP\n",
        "\t)\n",
        "\t\n",
        "insert into salary\n",
        "values\n",
        "(1,1,9000,' 2017-03-31'),\n",
        "(2,2,6000,'2017-03-31'),\n",
        "(3,2,10000,' 2017-03-31'),\n",
        "(4,1,7000,'2017-02-28'),\n",
        "(5,2,6000,' 2017-02-28'),\n",
        "(6,2,8000,'2017-02-28')\n",
        "\n",
        "SELECT * from salary \n",
        "\n",
        "CREATE table dept (\n",
        "employee_id INTEGER,\n",
        "department_id integer\n",
        ")\n",
        "\n",
        "insert into dept\n",
        "values\n",
        "(1,1),\n",
        "(2,2),\n",
        "(3,2)\n",
        "\n",
        "select * from dept\n",
        "\n",
        "CREATE TEMPORARY table t1 AS( \n",
        "\n",
        "   select to_char(pay_date,'yyyy-mm') as pay_month, department_id,\n",
        "   avg (amount) over(PARTITION by date_part('month',pay_date), department_id) as dept_avg,\n",
        "   avg (amount) over(PARTITION by date_part('month',pay_date)) as comp_avg\n",
        "   from salary as s join dept as d\n",
        "   using (employee_id)\n",
        ")\n",
        "\n",
        "select * from t1\n",
        "\n",
        "select  distinct pay_month, department_id,\n",
        "     case when dept_avg > comp_avg then 'higher'\n",
        "\t when dept_avg = comp_avg then 'same'\n",
        "\t else 'lower'\n",
        "\t end as comprasion \n",
        "from t1\n",
        "order by pay_month desc"
      ],
      "metadata": {
        "id": "zrMWOw52m1SY"
      },
      "execution_count": null,
      "outputs": []
    },
    {
      "cell_type": "markdown",
      "source": [
        "2. Write an SQL query to report the students (student_id, student_name) being “quiet” in ALL exams. A “quiet” student is the one who took at least one exam and didn’t score neither the high score nor the low score.\n"
      ],
      "metadata": {
        "id": "DlvCRpHUnKGQ"
      }
    },
    {
      "cell_type": "code",
      "source": [
        "CREATE table student(\n",
        "     student_Id serial primary key ,\n",
        "     student_number varchar(100)\n",
        ")\n",
        "\n",
        "insert into student\n",
        "values\n",
        "(1, 'Daniel' ),\n",
        "(2 , 'jade'),\n",
        "(3 , 'stella'),\n",
        "(4 , 'Jonathan'),\n",
        "(5 , 'will')\n",
        "\n",
        "\n",
        "select * from student \n",
        "\n",
        "create table exam (\n",
        "   exam_id integer,\n",
        "   student_id integer references student(student_id),\n",
        "   score integer\n",
        ")\n",
        "\n",
        "insert into exam\n",
        "values\n",
        "(10,1,70),\n",
        "(10,2,80),\n",
        "(10,3,90),\n",
        "(20,1,80),\n",
        "(30,1,70),\n",
        "(30,3,80),\n",
        "(30,4,90),\n",
        "(40,1,60),\n",
        "(40,2,70),\n",
        "(40,4,80)\n",
        "\n",
        "select * from exam\n",
        "\n",
        "create  TEMPORARY table t2 as (\n",
        "  select student_id\n",
        "\tfrom(\n",
        "\t    select*,\n",
        "\t    min (score) over main_window as least,\n",
        "\t    max (score) over main_window as most\n",
        "\tfrom exam \n",
        "\twindow main_window as ( PARTITION by exam_id)\n",
        "\t)as a\n",
        " WHERE least = score or most = score\n",
        ")\t\n",
        "  \n",
        "  select * from t2\n",
        "  \n",
        "select distinct student_id,\n",
        "            student_number\n",
        "from exam join student\n",
        "using(student_id)\n",
        "where student_id != all(select student_id from t2)\n",
        "order by student_id\n"
      ],
      "metadata": {
        "id": "4FuCB-5anO31"
      },
      "execution_count": null,
      "outputs": []
    }
  ]
}